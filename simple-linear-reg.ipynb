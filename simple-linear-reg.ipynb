{
 "cells": [
  {
   "cell_type": "code",
   "execution_count": 1,
   "id": "21bb461b",
   "metadata": {},
   "outputs": [],
   "source": [
    "import numpy as np\n",
    "import pandas as pd\n",
    "import matplotlib.pyplot as plt\n",
    "import sklearn\n",
    "from pylab import rcParams\n",
    "\n",
    "from sklearn.linear_model import LinearRegression\n",
    "from sklearn.preprocessing import scale\n",
    "\n",
    "%matplotlib inline\n",
    "rcParams['figure.figsize']=12,6"
   ]
  },
  {
   "cell_type": "code",
   "execution_count": 2,
   "id": "f7ec46fe",
   "metadata": {},
   "outputs": [
    {
     "name": "stdout",
     "output_type": "stream",
     "text": [
      "[[4.35404805]\n",
      " [4.2463534 ]\n",
      " [3.65817861]\n",
      " [4.94198903]\n",
      " [3.11032253]\n",
      " [4.75687148]\n",
      " [4.07377287]\n",
      " [3.18663598]\n",
      " [4.94650407]]\n"
     ]
    }
   ],
   "source": [
    "rooms = 2*np.random.rand(100, 1)+3\n",
    "print(rooms[0:9])"
   ]
  },
  {
   "cell_type": "code",
   "execution_count": 3,
   "id": "3dbf821e",
   "metadata": {},
   "outputs": [
    {
     "name": "stdout",
     "output_type": "stream",
     "text": [
      "[[291.82647935]\n",
      " [292.23672167]\n",
      " [287.27839032]\n",
      " [295.77589921]\n",
      " [284.16206922]\n",
      " [294.38528892]\n",
      " [289.78612075]\n",
      " [284.90914931]\n",
      " [294.98394892]]\n"
     ]
    }
   ],
   "source": [
    "price = 265 + 6*rooms + abs(np.random.randn(100,1))\n",
    "print(price[0:9])"
   ]
  },
  {
   "cell_type": "code",
   "execution_count": 4,
   "id": "ae04fecf",
   "metadata": {},
   "outputs": [
    {
     "data": {
      "image/png": "[encoded data removed]",
      "text/plain": [
       "<Figure size 864x432 with 1 Axes>"
      ]
     },
     "metadata": {
      "needs_background": "light"
     },
     "output_type": "display_data"
    }
   ],
   "source": [
    "plt.plot(rooms, price, r'.')\n",
    "plt.grid()\n",
    "plt.xlabel(\"Number of rooms 2019 Average\")\n",
    "plt.ylabel(\"2019 Average Room Price\")\n",
    "plt.show()"
   ]
  },
  {
   "cell_type": "code",
   "execution_count": 5,
   "id": "bce8b543",
   "metadata": {
    "scrolled": true
   },
   "outputs": [
    {
     "name": "stdout",
     "output_type": "stream",
     "text": [
      "[265.57123875] [[6.04603768]]\n"
     ]
    }
   ],
   "source": [
    "X = rooms\n",
    "Y = price\n",
    "\n",
    "linReg = LinearRegression()\n",
    "linReg.fit(X,Y)\n",
    "\n",
    "print(linReg.intercept_,linReg.coef_)"
   ]
  },
  {
   "cell_type": "code",
   "execution_count": 6,
   "id": "4ba84088",
   "metadata": {},
   "outputs": [
    {
     "name": "stdout",
     "output_type": "stream",
     "text": [
      "R Squared Value is:  0.9784302437840865\n"
     ]
    }
   ],
   "source": [
    "print('R Squared Value is: ',linReg.score(X,Y))"
   ]
  },
  {
   "cell_type": "code",
   "execution_count": 7,
   "id": "37d7239f",
   "metadata": {},
   "outputs": [
    {
     "data": {
      "text/html": [
       "        <script type=\"text/javascript\">\n",
       "        window.PlotlyConfig = {MathJaxConfig: 'local'};\n",
       "        if (window.MathJax) {MathJax.Hub.Config({SVG: {font: \"STIX-Web\"}});}\n",
       "        if (typeof require !== 'undefined') {\n",
       "        require.undef(\"plotly\");\n",
       "        requirejs.config({\n",
       "            paths: {\n",
       "                'plotly': ['https://cdn.plot.ly/plotly-2.2.0.min']\n",
       "            }\n",
       "        });\n",
       "        require(['plotly'], function(Plotly) {\n",
       "            window._Plotly = Plotly;\n",
       "        });\n",
       "        }\n",
       "        </script>\n",
       "        "
      ]
     },
     "metadata": {},
     "output_type": "display_data"
    }
   ],
   "source": [
    "import plotly.graph_objects as go\n",
    "import chart_studio.plotly as px\n",
    "import plotly.express as py\n",
    "import cufflinks as cf"
   ]
  },
  {
   "cell_type": "code",
   "execution_count": 8,
   "id": "1fb69323",
   "metadata": {},
   "outputs": [
    {
     "data": {
      "text/html": [
       "        <script type=\"text/javascript\">\n",
       "        window.PlotlyConfig = {MathJaxConfig: 'local'};\n",
       "        if (window.MathJax) {MathJax.Hub.Config({SVG: {font: \"STIX-Web\"}});}\n",
       "        if (typeof require !== 'undefined') {\n",
       "        require.undef(\"plotly\");\n",
       "        requirejs.config({\n",
       "            paths: {\n",
       "                'plotly': ['https://cdn.plot.ly/plotly-2.2.0.min']\n",
       "            }\n",
       "        });\n",
       "        require(['plotly'], function(Plotly) {\n",
       "            window._Plotly = Plotly;\n",
       "        });\n",
       "        }\n",
       "        </script>\n",
       "        "
      ]
     },
     "metadata": {},
     "output_type": "display_data"
    }
   ],
   "source": [
    "from cufflinks import tools\n",
    "\n",
    "cf.set_config_file(theme='pearl',sharing='public',offline=True)"
   ]
  },
  {
   "cell_type": "code",
   "execution_count": 9,
   "id": "78c07ef0",
   "metadata": {},
   "outputs": [],
   "source": [
    "combined = np.hstack((rooms, price))\n",
    "df = pd.DataFrame(combined,columns=['rooms','price'])"
   ]
  },
  {
   "cell_type": "code",
   "execution_count": 10,
   "id": "e0474afc",
   "metadata": {},
   "outputs": [
    {
     "data": {
      "text/html": [
       "<div>\n",
       "<style scoped>\n",
       "    .dataframe tbody tr th:only-of-type {\n",
       "        vertical-align: middle;\n",
       "    }\n",
       "\n",
       "    .dataframe tbody tr th {\n",
       "        vertical-align: top;\n",
       "    }\n",
       "\n",
       "    .dataframe thead th {\n",
       "        text-align: right;\n",
       "    }\n",
       "</style>\n",
       "<table border=\"1\" class=\"dataframe\">\n",
       "  <thead>\n",
       "    <tr style=\"text-align: right;\">\n",
       "      <th></th>\n",
       "      <th>rooms</th>\n",
       "      <th>price</th>\n",
       "    </tr>\n",
       "  </thead>\n",
       "  <tbody>\n",
       "    <tr>\n",
       "      <th>0</th>\n",
       "      <td>4.354048</td>\n",
       "      <td>291.826479</td>\n",
       "    </tr>\n",
       "    <tr>\n",
       "      <th>1</th>\n",
       "      <td>4.246353</td>\n",
       "      <td>292.236722</td>\n",
       "    </tr>\n",
       "    <tr>\n",
       "      <th>2</th>\n",
       "      <td>3.658179</td>\n",
       "      <td>287.278390</td>\n",
       "    </tr>\n",
       "    <tr>\n",
       "      <th>3</th>\n",
       "      <td>4.941989</td>\n",
       "      <td>295.775899</td>\n",
       "    </tr>\n",
       "    <tr>\n",
       "      <th>4</th>\n",
       "      <td>3.110323</td>\n",
       "      <td>284.162069</td>\n",
       "    </tr>\n",
       "  </tbody>\n",
       "</table>\n",
       "</div>"
      ],
      "text/plain": [
       "      rooms       price\n",
       "0  4.354048  291.826479\n",
       "1  4.246353  292.236722\n",
       "2  3.658179  287.278390\n",
       "3  4.941989  295.775899\n",
       "4  3.110323  284.162069"
      ]
     },
     "execution_count": 10,
     "metadata": {},
     "output_type": "execute_result"
    }
   ],
   "source": [
    "df.head()"
   ]
  },
  {
   "cell_type": "code",
   "execution_count": 11,
   "id": "aff3dd00",
   "metadata": {},
   "outputs": [
    {
     "data": {
      "application/vnd.plotly.v1+json": {
       "config": {
        "plotlyServerURL": "https://plot.ly"
       },
       "data": [
        {
         "hovertemplate": "Number of rooms 2019 Average=%{x}<br>2019 Average Room Price=%{y}<extra></extra>",
         "legendgroup": "",
         "marker": {
          "color": "#636efa",
          "symbol": "circle"
         },
         "mode": "markers",
         "name": "",
         "orientation": "v",
         "showlegend": false,
         "type": "scatter",
         "x": [
          4.354048049056742,
          4.246353404308322,
          3.658178614681931,
          4.941989029703704,
          3.1103225271455566,
          4.756871482344047,
          4.073772868963237,
          3.1866359846236136,
          4.94650407175782,
          3.2533456477906584,
          4.801820701199672,
          3.3596022135092043,
          4.161602052545982,
          3.013505232499439,
          3.320601461970269,
          3.892929143643043,
          3.5796271838330003,
          4.5871889916174915,
          4.85913666732633,
          4.89722784077139,
          3.2584357044157954,
          3.3225945803110384,
          3.7765178448296126,
          3.633256459518723,
          3.1470260351517076,
          3.738003774081691,
          3.3280162890939993,
          4.581029076329553,
          3.1041191896133276,
          3.2199898245348635,
          3.331509163179835,
          4.816613552701276,
          4.995885525418598,
          3.0382800518837154,
          3.9824418252006857,
          3.391616531676887,
          4.589445944549097,
          3.808332006072598,
          3.7808668384359088,
          4.244460281626251,
          3.7986333185152095,
          3.396662827930527,
          4.648203388916272,
          3.2369457858998163,
          3.925151804128129,
          3.0832651756367557,
          3.6508314534565134,
          4.4951376995429655,
          4.805800254908288,
          3.8871260504756346,
          4.862700915126939,
          4.99583020191109,
          3.018484183316005,
          4.15942767368516,
          4.294945168317197,
          3.2947287389417537,
          3.5533574627514866,
          3.7724980839095617,
          4.980455955716854,
          4.5578948983514715,
          3.2507170765064934,
          3.9661852651983365,
          4.989552971967094,
          4.103801071631267,
          4.726963163206504,
          3.056061173989793,
          4.878751850304374,
          4.928094728549354,
          3.6470342311097266,
          4.493109481764598,
          3.063140759398018,
          4.540038741069428,
          3.6886199510675457,
          3.2452313344879262,
          4.325281869871414,
          4.705473600834801,
          3.83633876349775,
          3.854641544238945,
          3.894252590847168,
          4.257123901567119,
          4.964806392372668,
          3.74591835959217,
          4.135413323720881,
          3.345798499364959,
          4.248688781352678,
          4.426482135630264,
          4.913755958031669,
          3.1918599326690247,
          3.8211137100806423,
          3.195436396481767,
          4.745307449289193,
          3.4099870851344587,
          3.8008459385901405,
          4.180146519196095,
          4.106946130710224,
          4.178147137554804,
          3.8319790620860337,
          3.077250891574046,
          4.735660493969418,
          4.117962778591075
         ],
         "xaxis": "x",
         "y": [
          291.82647935180864,
          292.2367216747561,
          287.2783903208747,
          295.7758992111388,
          284.16206921524133,
          294.38528891719636,
          289.78612075024034,
          284.90914930636234,
          294.9839489210649,
          284.97401811920514,
          293.8629914991698,
          286.1352963528043,
          290.2114022719286,
          284.19401858574884,
          286.94113466048327,
          288.7247499990184,
          287.07754175585876,
          293.7808477766337,
          294.3957895599059,
          294.7469706987694,
          286.1974215925461,
          284.9717224687844,
          287.7015624148528,
          287.3019968237733,
          284.3730550096696,
          288.18825742184106,
          285.30410279897603,
          293.4340535143855,
          283.7539621518037,
          284.7123940562429,
          285.6362777309255,
          294.24457075794896,
          297.1686124816805,
          283.7624834467581,
          289.2869099069358,
          286.48276735396115,
          292.57508399093496,
          288.72454870482835,
          288.11092541128255,
          291.218091986248,
          288.3123048807863,
          286.3325289733732,
          293.9051435733797,
          285.77835889416866,
          288.56098536307155,
          284.48176131636075,
          287.5821746771908,
          293.5597857478822,
          294.2523142594412,
          288.43768628271556,
          296.7479359552497,
          296.04481538588834,
          283.14651164335663,
          290.0610790400349,
          290.9362053393269,
          287.075906709179,
          287.46046938370455,
          288.99389271069333,
          296.07334500035154,
          293.2595002943944,
          285.10822999655153,
          290.53004475148225,
          295.0557719416453,
          290.20058250446635,
          293.7266305234255,
          284.1121044204155,
          295.3252579234497,
          295.4862905812341,
          286.88242137231543,
          294.12954704750456,
          284.10675586061694,
          293.57635198003663,
          288.3429727604581,
          285.5570839113724,
          291.13956784027243,
          294.3415364720348,
          288.6969944307614,
          288.2560232316153,
          288.66942990938196,
          290.91189434022436,
          295.89240847272885,
          288.6958604752239,
          291.41304780507124,
          285.81301787373945,
          291.0444333102945,
          291.92192121578626,
          294.73658752803846,
          285.4131459187582,
          288.19801827388864,
          285.19598360039885,
          293.4900698372349,
          285.47836659149164,
          287.86000407246314,
          291.5763590687527,
          290.36549913274797,
          290.7607941103966,
          288.9938045661734,
          284.01362270418184,
          294.1310573775224,
          290.55334218349896
         ],
         "yaxis": "y"
        },
        {
         "hovertemplate": "<b>OLS trendline</b><br>price = 6.04604 * rooms + 265.571<br>R<sup>2</sup>=0.978430<br><br>Number of rooms 2019 Average=%{x}<br>2019 Average Room Price=%{y} <b>(trend)</b><extra></extra>",
         "legendgroup": "",
         "marker": {
          "color": "#636efa",
          "symbol": "circle"
         },
         "mode": "lines",
         "name": "",
         "showlegend": false,
         "type": "scatter",
         "x": [
          3.013505232499439,
          3.018484183316005,
          3.0382800518837154,
          3.056061173989793,
          3.063140759398018,
          3.077250891574046,
          3.0832651756367557,
          3.1041191896133276,
          3.1103225271455566,
          3.1470260351517076,
          3.1866359846236136,
          3.1918599326690247,
          3.195436396481767,
          3.2199898245348635,
          3.2369457858998163,
          3.2452313344879262,
          3.2507170765064934,
          3.2533456477906584,
          3.2584357044157954,
          3.2947287389417537,
          3.320601461970269,
          3.3225945803110384,
          3.3280162890939993,
          3.331509163179835,
          3.345798499364959,
          3.3596022135092043,
          3.391616531676887,
          3.396662827930527,
          3.4099870851344587,
          3.5533574627514866,
          3.5796271838330003,
          3.633256459518723,
          3.6470342311097266,
          3.6508314534565134,
          3.658178614681931,
          3.6886199510675457,
          3.738003774081691,
          3.74591835959217,
          3.7724980839095617,
          3.7765178448296126,
          3.7808668384359088,
          3.7986333185152095,
          3.8008459385901405,
          3.808332006072598,
          3.8211137100806423,
          3.8319790620860337,
          3.83633876349775,
          3.854641544238945,
          3.8871260504756346,
          3.892929143643043,
          3.894252590847168,
          3.925151804128129,
          3.9661852651983365,
          3.9824418252006857,
          4.073772868963237,
          4.103801071631267,
          4.106946130710224,
          4.117962778591075,
          4.135413323720881,
          4.15942767368516,
          4.161602052545982,
          4.178147137554804,
          4.180146519196095,
          4.244460281626251,
          4.246353404308322,
          4.248688781352678,
          4.257123901567119,
          4.294945168317197,
          4.325281869871414,
          4.354048049056742,
          4.426482135630264,
          4.493109481764598,
          4.4951376995429655,
          4.540038741069428,
          4.5578948983514715,
          4.581029076329553,
          4.5871889916174915,
          4.589445944549097,
          4.648203388916272,
          4.705473600834801,
          4.726963163206504,
          4.735660493969418,
          4.745307449289193,
          4.756871482344047,
          4.801820701199672,
          4.805800254908288,
          4.816613552701276,
          4.85913666732633,
          4.862700915126939,
          4.878751850304374,
          4.89722784077139,
          4.913755958031669,
          4.928094728549354,
          4.941989029703704,
          4.94650407175782,
          4.964806392372668,
          4.980455955716854,
          4.989552971967094,
          4.99583020191109,
          4.995885525418598
         ],
         "xaxis": "x",
         "y": [
          283.79100493924693,
          283.8211078635034,
          283.9407944308226,
          284.048299765114,
          284.09110320526895,
          284.17641359611093,
          284.21277618418765,
          284.3388603385224,
          284.37636595099985,
          284.59827674348685,
          284.8377599905979,
          284.8693441773321,
          284.8909676123142,
          285.039418563559,
          285.14193494491536,
          285.1920296838997,
          285.2251966868607,
          285.24108912789603,
          285.2718638020579,
          285.49129285641595,
          285.6477203147965,
          285.6597707833906,
          285.6925506389962,
          285.7136686873396,
          285.80006255237345,
          285.8835203282487,
          286.0770801022716,
          286.10759019957845,
          286.1881491607254,
          287.0549718663594,
          287.21379958992827,
          287.53804421161203,
          287.6213451378328,
          287.6443032872305,
          287.6887245008591,
          287.87277396775374,
          288.17135042260566,
          288.21920230484375,
          288.3799043196585,
          288.40420794565597,
          288.4305021248808,
          288.5379189329265,
          288.55129651727674,
          288.59655756336974,
          288.6738362274496,
          288.7395285551084,
          288.76588747412825,
          288.87654677618497,
          289.07294932499104,
          289.1080350449565,
          289.1160366566235,
          289.30285446448136,
          289.5509443163573,
          289.64923209072015,
          290.20142302289514,
          290.38297466776527,
          290.4019898134705,
          290.4685968816935,
          290.5741035351294,
          290.71929519993535,
          290.732441576464,
          290.8324737838883,
          290.8445621206334,
          291.23340555179266,
          291.24485144286615,
          291.2589712204793,
          291.30997027515264,
          291.5386390791254,
          291.72205591988643,
          291.8959773232239,
          292.3339165401485,
          292.736747985565,
          292.74901066668144,
          293.0204840557362,
          293.1284430555289,
          293.2683131673392,
          293.3055562472914,
          293.3192018697636,
          293.67445159253793,
          294.02070945188495,
          294.15063615576577,
          294.20322054529595,
          294.2615464006812,
          294.3314629802931,
          294.60322765129536,
          294.6272881829774,
          294.6926657889064,
          294.9497621423089,
          294.9713117188213,
          295.0683562777443,
          295.1800628123303,
          295.2799924321075,
          295.3666851789789,
          295.4506906473308,
          295.4779887617283,
          295.58864528184375,
          295.6832631315381,
          295.7382640345859,
          295.7762164033693,
          295.77655089138045
         ],
         "yaxis": "y"
        }
       ],
       "layout": {
        "height": 600,
        "legend": {
         "tracegroupgap": 0
        },
        "margin": {
         "t": 60
        },
        "template": {
         "data": {
          "bar": [
           {
            "error_x": {
             "color": "#2a3f5f"
            },
            "error_y": {
             "color": "#2a3f5f"
            },
            "marker": {
             "line": {
              "color": "#E5ECF6",
              "width": 0.5
             },
             "pattern": {
              "fillmode": "overlay",
              "size": 10,
              "solidity": 0.2
             }
            },
            "type": "bar"
           }
          ],
          "barpolar": [
           {
            "marker": {
             "line": {
              "color": "#E5ECF6",
              "width": 0.5
             },
             "pattern": {
              "fillmode": "overlay",
              "size": 10,
              "solidity": 0.2
             }
            },
            "type": "barpolar"
           }
          ],
          "carpet": [
           {
            "aaxis": {
             "endlinecolor": "#2a3f5f",
             "gridcolor": "white",
             "linecolor": "white",
             "minorgridcolor": "white",
             "startlinecolor": "#2a3f5f"
            },
            "baxis": {
             "endlinecolor": "#2a3f5f",
             "gridcolor": "white",
             "linecolor": "white",
             "minorgridcolor": "white",
             "startlinecolor": "#2a3f5f"
            },
            "type": "carpet"
           }
          ],
          "choropleth": [
           {
            "colorbar": {
             "outlinewidth": 0,
             "ticks": ""
            },
            "type": "choropleth"
           }
          ],
          "contour": [
           {
            "colorbar": {
             "outlinewidth": 0,
             "ticks": ""
            },
            "colorscale": [
             [
              0,
              "#0d0887"
             ],
             [
              0.1111111111111111,
              "#46039f"
             ],
             [
              0.2222222222222222,
              "#7201a8"
             ],
             [
              0.3333333333333333,
              "#9c179e"
             ],
             [
              0.4444444444444444,
              "#bd3786"
             ],
             [
              0.5555555555555556,
              "#d8576b"
             ],
             [
              0.6666666666666666,
              "#ed7953"
             ],
             [
              0.7777777777777778,
              "#fb9f3a"
             ],
             [
              0.8888888888888888,
              "#fdca26"
             ],
             [
              1,
              "#f0f921"
             ]
            ],
            "type": "contour"
           }
          ],
          "contourcarpet": [
           {
            "colorbar": {
             "outlinewidth": 0,
             "ticks": ""
            },
            "type": "contourcarpet"
           }
          ],
          "heatmap": [
           {
            "colorbar": {
             "outlinewidth": 0,
             "ticks": ""
            },
            "colorscale": [
             [
              0,
              "#0d0887"
             ],
             [
              0.1111111111111111,
              "#46039f"
             ],
             [
              0.2222222222222222,
              "#7201a8"
             ],
             [
              0.3333333333333333,
              "#9c179e"
             ],
             [
              0.4444444444444444,
              "#bd3786"
             ],
             [
              0.5555555555555556,
              "#d8576b"
             ],
             [
              0.6666666666666666,
              "#ed7953"
             ],
             [
              0.7777777777777778,
              "#fb9f3a"
             ],
             [
              0.8888888888888888,
              "#fdca26"
             ],
             [
              1,
              "#f0f921"
             ]
            ],
            "type": "heatmap"
           }
          ],
          "heatmapgl": [
           {
            "colorbar": {
             "outlinewidth": 0,
             "ticks": ""
            },
            "colorscale": [
             [
              0,
              "#0d0887"
             ],
             [
              0.1111111111111111,
              "#46039f"
             ],
             [
              0.2222222222222222,
              "#7201a8"
             ],
             [
              0.3333333333333333,
              "#9c179e"
             ],
             [
              0.4444444444444444,
              "#bd3786"
             ],
             [
              0.5555555555555556,
              "#d8576b"
             ],
             [
              0.6666666666666666,
              "#ed7953"
             ],
             [
              0.7777777777777778,
              "#fb9f3a"
             ],
             [
              0.8888888888888888,
              "#fdca26"
             ],
             [
              1,
              "#f0f921"
             ]
            ],
            "type": "heatmapgl"
           }
          ],
          "histogram": [
           {
            "marker": {
             "pattern": {
              "fillmode": "overlay",
              "size": 10,
              "solidity": 0.2
             }
            },
            "type": "histogram"
           }
          ],
          "histogram2d": [
           {
            "colorbar": {
             "outlinewidth": 0,
             "ticks": ""
            },
            "colorscale": [
             [
              0,
              "#0d0887"
             ],
             [
              0.1111111111111111,
              "#46039f"
             ],
             [
              0.2222222222222222,
              "#7201a8"
             ],
             [
              0.3333333333333333,
              "#9c179e"
             ],
             [
              0.4444444444444444,
              "#bd3786"
             ],
             [
              0.5555555555555556,
              "#d8576b"
             ],
             [
              0.6666666666666666,
              "#ed7953"
             ],
             [
              0.7777777777777778,
              "#fb9f3a"
             ],
             [
              0.8888888888888888,
              "#fdca26"
             ],
             [
              1,
              "#f0f921"
             ]
            ],
            "type": "histogram2d"
           }
          ],
          "histogram2dcontour": [
           {
            "colorbar": {
             "outlinewidth": 0,
             "ticks": ""
            },
            "colorscale": [
             [
              0,
              "#0d0887"
             ],
             [
              0.1111111111111111,
              "#46039f"
             ],
             [
              0.2222222222222222,
              "#7201a8"
             ],
             [
              0.3333333333333333,
              "#9c179e"
             ],
             [
              0.4444444444444444,
              "#bd3786"
             ],
             [
              0.5555555555555556,
              "#d8576b"
             ],
             [
              0.6666666666666666,
              "#ed7953"
             ],
             [
              0.7777777777777778,
              "#fb9f3a"
             ],
             [
              0.8888888888888888,
              "#fdca26"
             ],
             [
              1,
              "#f0f921"
             ]
            ],
            "type": "histogram2dcontour"
           }
          ],
          "mesh3d": [
           {
            "colorbar": {
             "outlinewidth": 0,
             "ticks": ""
            },
            "type": "mesh3d"
           }
          ],
          "parcoords": [
           {
            "line": {
             "colorbar": {
              "outlinewidth": 0,
              "ticks": ""
             }
            },
            "type": "parcoords"
           }
          ],
          "pie": [
           {
            "automargin": true,
            "type": "pie"
           }
          ],
          "scatter": [
           {
            "marker": {
             "colorbar": {
              "outlinewidth": 0,
              "ticks": ""
             }
            },
            "type": "scatter"
           }
          ],
          "scatter3d": [
           {
            "line": {
             "colorbar": {
              "outlinewidth": 0,
              "ticks": ""
             }
            },
            "marker": {
             "colorbar": {
              "outlinewidth": 0,
              "ticks": ""
             }
            },
            "type": "scatter3d"
           }
          ],
          "scattercarpet": [
           {
            "marker": {
             "colorbar": {
              "outlinewidth": 0,
              "ticks": ""
             }
            },
            "type": "scattercarpet"
           }
          ],
          "scattergeo": [
           {
            "marker": {
             "colorbar": {
              "outlinewidth": 0,
              "ticks": ""
             }
            },
            "type": "scattergeo"
           }
          ],
          "scattergl": [
           {
            "marker": {
             "colorbar": {
              "outlinewidth": 0,
              "ticks": ""
             }
            },
            "type": "scattergl"
           }
          ],
          "scattermapbox": [
           {
            "marker": {
             "colorbar": {
              "outlinewidth": 0,
              "ticks": ""
             }
            },
            "type": "scattermapbox"
           }
          ],
          "scatterpolar": [
           {
            "marker": {
             "colorbar": {
              "outlinewidth": 0,
              "ticks": ""
             }
            },
            "type": "scatterpolar"
           }
          ],
          "scatterpolargl": [
           {
            "marker": {
             "colorbar": {
              "outlinewidth": 0,
              "ticks": ""
             }
            },
            "type": "scatterpolargl"
           }
          ],
          "scatterternary": [
           {
            "marker": {
             "colorbar": {
              "outlinewidth": 0,
              "ticks": ""
             }
            },
            "type": "scatterternary"
           }
          ],
          "surface": [
           {
            "colorbar": {
             "outlinewidth": 0,
             "ticks": ""
            },
            "colorscale": [
             [
              0,
              "#0d0887"
             ],
             [
              0.1111111111111111,
              "#46039f"
             ],
             [
              0.2222222222222222,
              "#7201a8"
             ],
             [
              0.3333333333333333,
              "#9c179e"
             ],
             [
              0.4444444444444444,
              "#bd3786"
             ],
             [
              0.5555555555555556,
              "#d8576b"
             ],
             [
              0.6666666666666666,
              "#ed7953"
             ],
             [
              0.7777777777777778,
              "#fb9f3a"
             ],
             [
              0.8888888888888888,
              "#fdca26"
             ],
             [
              1,
              "#f0f921"
             ]
            ],
            "type": "surface"
           }
          ],
          "table": [
           {
            "cells": {
             "fill": {
              "color": "#EBF0F8"
             },
             "line": {
              "color": "white"
             }
            },
            "header": {
             "fill": {
              "color": "#C8D4E3"
             },
             "line": {
              "color": "white"
             }
            },
            "type": "table"
           }
          ]
         },
         "layout": {
          "annotationdefaults": {
           "arrowcolor": "#2a3f5f",
           "arrowhead": 0,
           "arrowwidth": 1
          },
          "autotypenumbers": "strict",
          "coloraxis": {
           "colorbar": {
            "outlinewidth": 0,
            "ticks": ""
           }
          },
          "colorscale": {
           "diverging": [
            [
             0,
             "#8e0152"
            ],
            [
             0.1,
             "#c51b7d"
            ],
            [
             0.2,
             "#de77ae"
            ],
            [
             0.3,
             "#f1b6da"
            ],
            [
             0.4,
             "#fde0ef"
            ],
            [
             0.5,
             "#f7f7f7"
            ],
            [
             0.6,
             "#e6f5d0"
            ],
            [
             0.7,
             "#b8e186"
            ],
            [
             0.8,
             "#7fbc41"
            ],
            [
             0.9,
             "#4d9221"
            ],
            [
             1,
             "#276419"
            ]
           ],
           "sequential": [
            [
             0,
             "#0d0887"
            ],
            [
             0.1111111111111111,
             "#46039f"
            ],
            [
             0.2222222222222222,
             "#7201a8"
            ],
            [
             0.3333333333333333,
             "#9c179e"
            ],
            [
             0.4444444444444444,
             "#bd3786"
            ],
            [
             0.5555555555555556,
             "#d8576b"
            ],
            [
             0.6666666666666666,
             "#ed7953"
            ],
            [
             0.7777777777777778,
             "#fb9f3a"
            ],
            [
             0.8888888888888888,
             "#fdca26"
            ],
            [
             1,
             "#f0f921"
            ]
           ],
           "sequentialminus": [
            [
             0,
             "#0d0887"
            ],
            [
             0.1111111111111111,
             "#46039f"
            ],
            [
             0.2222222222222222,
             "#7201a8"
            ],
            [
             0.3333333333333333,
             "#9c179e"
            ],
            [
             0.4444444444444444,
             "#bd3786"
            ],
            [
             0.5555555555555556,
             "#d8576b"
            ],
            [
             0.6666666666666666,
             "#ed7953"
            ],
            [
             0.7777777777777778,
             "#fb9f3a"
            ],
            [
             0.8888888888888888,
             "#fdca26"
            ],
            [
             1,
             "#f0f921"
            ]
           ]
          },
          "colorway": [
           "#636efa",
           "#EF553B",
           "#00cc96",
           "#ab63fa",
           "#FFA15A",
           "#19d3f3",
           "#FF6692",
           "#B6E880",
           "#FF97FF",
           "#FECB52"
          ],
          "font": {
           "color": "#2a3f5f"
          },
          "geo": {
           "bgcolor": "white",
           "lakecolor": "white",
           "landcolor": "#E5ECF6",
           "showlakes": true,
           "showland": true,
           "subunitcolor": "white"
          },
          "hoverlabel": {
           "align": "left"
          },
          "hovermode": "closest",
          "mapbox": {
           "style": "light"
          },
          "paper_bgcolor": "white",
          "plot_bgcolor": "#E5ECF6",
          "polar": {
           "angularaxis": {
            "gridcolor": "white",
            "linecolor": "white",
            "ticks": ""
           },
           "bgcolor": "#E5ECF6",
           "radialaxis": {
            "gridcolor": "white",
            "linecolor": "white",
            "ticks": ""
           }
          },
          "scene": {
           "xaxis": {
            "backgroundcolor": "#E5ECF6",
            "gridcolor": "white",
            "gridwidth": 2,
            "linecolor": "white",
            "showbackground": true,
            "ticks": "",
            "zerolinecolor": "white"
           },
           "yaxis": {
            "backgroundcolor": "#E5ECF6",
            "gridcolor": "white",
            "gridwidth": 2,
            "linecolor": "white",
            "showbackground": true,
            "ticks": "",
            "zerolinecolor": "white"
           },
           "zaxis": {
            "backgroundcolor": "#E5ECF6",
            "gridcolor": "white",
            "gridwidth": 2,
            "linecolor": "white",
            "showbackground": true,
            "ticks": "",
            "zerolinecolor": "white"
           }
          },
          "shapedefaults": {
           "line": {
            "color": "#2a3f5f"
           }
          },
          "ternary": {
           "aaxis": {
            "gridcolor": "white",
            "linecolor": "white",
            "ticks": ""
           },
           "baxis": {
            "gridcolor": "white",
            "linecolor": "white",
            "ticks": ""
           },
           "bgcolor": "#E5ECF6",
           "caxis": {
            "gridcolor": "white",
            "linecolor": "white",
            "ticks": ""
           }
          },
          "title": {
           "x": 0.05
          },
          "xaxis": {
           "automargin": true,
           "gridcolor": "white",
           "linecolor": "white",
           "ticks": "",
           "title": {
            "standoff": 15
           },
           "zerolinecolor": "white",
           "zerolinewidth": 2
          },
          "yaxis": {
           "automargin": true,
           "gridcolor": "white",
           "linecolor": "white",
           "ticks": "",
           "title": {
            "standoff": 15
           },
           "zerolinecolor": "white",
           "zerolinewidth": 2
          }
         }
        },
        "title": {
         "text": "Scatter Plot with Trendline"
        },
        "width": 900,
        "xaxis": {
         "anchor": "y",
         "domain": [
          0,
          1
         ],
         "title": {
          "text": "Number of rooms 2019 Average"
         }
        },
        "yaxis": {
         "anchor": "x",
         "domain": [
          0,
          1
         ],
         "title": {
          "text": "2019 Average Room Price"
         }
        }
       }
      },
      "text/html": [
       "<div>                            <div id=\"3340d0f3-3ee0-4e1e-8ee4-0ce0b62559fe\" class=\"plotly-graph-div\" style=\"height:600px; width:900px;\"></div>            <script type=\"text/javascript\">                require([\"plotly\"], function(Plotly) {                    window.PLOTLYENV=window.PLOTLYENV || {};                                    if (document.getElementById(\"3340d0f3-3ee0-4e1e-8ee4-0ce0b62559fe\")) {                    Plotly.newPlot(                        \"3340d0f3-3ee0-4e1e-8ee4-0ce0b62559fe\",                        [{\"hovertemplate\":\"Number of rooms 2019 Average=%{x}<br>2019 Average Room Price=%{y}<extra></extra>\",\"legendgroup\":\"\",\"marker\":{\"color\":\"#636efa\",\"symbol\":\"circle\"},\"mode\":\"markers\",\"name\":\"\",\"orientation\":\"v\",\"showlegend\":false,\"type\":\"scatter\",\"x\":[4.354048049056742,4.246353404308322,3.658178614681931,4.941989029703704,3.1103225271455566,4.756871482344047,4.073772868963237,3.1866359846236136,4.94650407175782,3.2533456477906584,4.801820701199672,3.3596022135092043,4.161602052545982,3.013505232499439,3.320601461970269,3.892929143643043,3.5796271838330003,4.5871889916174915,4.85913666732633,4.89722784077139,3.2584357044157954,3.3225945803110384,3.7765178448296126,3.633256459518723,3.1470260351517076,3.738003774081691,3.3280162890939993,4.581029076329553,3.1041191896133276,3.2199898245348635,3.331509163179835,4.816613552701276,4.995885525418598,3.0382800518837154,3.9824418252006857,3.391616531676887,4.589445944549097,3.808332006072598,3.7808668384359088,4.244460281626251,3.7986333185152095,3.396662827930527,4.648203388916272,3.2369457858998163,3.925151804128129,3.0832651756367557,3.6508314534565134,4.4951376995429655,4.805800254908288,3.8871260504756346,4.862700915126939,4.99583020191109,3.018484183316005,4.15942767368516,4.294945168317197,3.2947287389417537,3.5533574627514866,3.7724980839095617,4.980455955716854,4.5578948983514715,3.2507170765064934,3.9661852651983365,4.989552971967094,4.103801071631267,4.726963163206504,3.056061173989793,4.878751850304374,4.928094728549354,3.6470342311097266,4.493109481764598,3.063140759398018,4.540038741069428,3.6886199510675457,3.2452313344879262,4.325281869871414,4.705473600834801,3.83633876349775,3.854641544238945,3.894252590847168,4.257123901567119,4.964806392372668,3.74591835959217,4.135413323720881,3.345798499364959,4.248688781352678,4.426482135630264,4.913755958031669,3.1918599326690247,3.8211137100806423,3.195436396481767,4.745307449289193,3.4099870851344587,3.8008459385901405,4.180146519196095,4.106946130710224,4.178147137554804,3.8319790620860337,3.077250891574046,4.735660493969418,4.117962778591075],\"xaxis\":\"x\",\"y\":[291.82647935180864,292.2367216747561,287.2783903208747,295.7758992111388,284.16206921524133,294.38528891719636,289.78612075024034,284.90914930636234,294.9839489210649,284.97401811920514,293.8629914991698,286.1352963528043,290.2114022719286,284.19401858574884,286.94113466048327,288.7247499990184,287.07754175585876,293.7808477766337,294.3957895599059,294.7469706987694,286.1974215925461,284.9717224687844,287.7015624148528,287.3019968237733,284.3730550096696,288.18825742184106,285.30410279897603,293.4340535143855,283.7539621518037,284.7123940562429,285.6362777309255,294.24457075794896,297.1686124816805,283.7624834467581,289.2869099069358,286.48276735396115,292.57508399093496,288.72454870482835,288.11092541128255,291.218091986248,288.3123048807863,286.3325289733732,293.9051435733797,285.77835889416866,288.56098536307155,284.48176131636075,287.5821746771908,293.5597857478822,294.2523142594412,288.43768628271556,296.7479359552497,296.04481538588834,283.14651164335663,290.0610790400349,290.9362053393269,287.075906709179,287.46046938370455,288.99389271069333,296.07334500035154,293.2595002943944,285.10822999655153,290.53004475148225,295.0557719416453,290.20058250446635,293.7266305234255,284.1121044204155,295.3252579234497,295.4862905812341,286.88242137231543,294.12954704750456,284.10675586061694,293.57635198003663,288.3429727604581,285.5570839113724,291.13956784027243,294.3415364720348,288.6969944307614,288.2560232316153,288.66942990938196,290.91189434022436,295.89240847272885,288.6958604752239,291.41304780507124,285.81301787373945,291.0444333102945,291.92192121578626,294.73658752803846,285.4131459187582,288.19801827388864,285.19598360039885,293.4900698372349,285.47836659149164,287.86000407246314,291.5763590687527,290.36549913274797,290.7607941103966,288.9938045661734,284.01362270418184,294.1310573775224,290.55334218349896],\"yaxis\":\"y\"},{\"hovertemplate\":\"<b>OLS trendline</b><br>price = 6.04604 * rooms + 265.571<br>R<sup>2</sup>=0.978430<br><br>Number of rooms 2019 Average=%{x}<br>2019 Average Room Price=%{y} <b>(trend)</b><extra></extra>\",\"legendgroup\":\"\",\"marker\":{\"color\":\"#636efa\",\"symbol\":\"circle\"},\"mode\":\"lines\",\"name\":\"\",\"showlegend\":false,\"type\":\"scatter\",\"x\":[3.013505232499439,3.018484183316005,3.0382800518837154,3.056061173989793,3.063140759398018,3.077250891574046,3.0832651756367557,3.1041191896133276,3.1103225271455566,3.1470260351517076,3.1866359846236136,3.1918599326690247,3.195436396481767,3.2199898245348635,3.2369457858998163,3.2452313344879262,3.2507170765064934,3.2533456477906584,3.2584357044157954,3.2947287389417537,3.320601461970269,3.3225945803110384,3.3280162890939993,3.331509163179835,3.345798499364959,3.3596022135092043,3.391616531676887,3.396662827930527,3.4099870851344587,3.5533574627514866,3.5796271838330003,3.633256459518723,3.6470342311097266,3.6508314534565134,3.658178614681931,3.6886199510675457,3.738003774081691,3.74591835959217,3.7724980839095617,3.7765178448296126,3.7808668384359088,3.7986333185152095,3.8008459385901405,3.808332006072598,3.8211137100806423,3.8319790620860337,3.83633876349775,3.854641544238945,3.8871260504756346,3.892929143643043,3.894252590847168,3.925151804128129,3.9661852651983365,3.9824418252006857,4.073772868963237,4.103801071631267,4.106946130710224,4.117962778591075,4.135413323720881,4.15942767368516,4.161602052545982,4.178147137554804,4.180146519196095,4.244460281626251,4.246353404308322,4.248688781352678,4.257123901567119,4.294945168317197,4.325281869871414,4.354048049056742,4.426482135630264,4.493109481764598,4.4951376995429655,4.540038741069428,4.5578948983514715,4.581029076329553,4.5871889916174915,4.589445944549097,4.648203388916272,4.705473600834801,4.726963163206504,4.735660493969418,4.745307449289193,4.756871482344047,4.801820701199672,4.805800254908288,4.816613552701276,4.85913666732633,4.862700915126939,4.878751850304374,4.89722784077139,4.913755958031669,4.928094728549354,4.941989029703704,4.94650407175782,4.964806392372668,4.980455955716854,4.989552971967094,4.99583020191109,4.995885525418598],\"xaxis\":\"x\",\"y\":[283.79100493924693,283.8211078635034,283.9407944308226,284.048299765114,284.09110320526895,284.17641359611093,284.21277618418765,284.3388603385224,284.37636595099985,284.59827674348685,284.8377599905979,284.8693441773321,284.8909676123142,285.039418563559,285.14193494491536,285.1920296838997,285.2251966868607,285.24108912789603,285.2718638020579,285.49129285641595,285.6477203147965,285.6597707833906,285.6925506389962,285.7136686873396,285.80006255237345,285.8835203282487,286.0770801022716,286.10759019957845,286.1881491607254,287.0549718663594,287.21379958992827,287.53804421161203,287.6213451378328,287.6443032872305,287.6887245008591,287.87277396775374,288.17135042260566,288.21920230484375,288.3799043196585,288.40420794565597,288.4305021248808,288.5379189329265,288.55129651727674,288.59655756336974,288.6738362274496,288.7395285551084,288.76588747412825,288.87654677618497,289.07294932499104,289.1080350449565,289.1160366566235,289.30285446448136,289.5509443163573,289.64923209072015,290.20142302289514,290.38297466776527,290.4019898134705,290.4685968816935,290.5741035351294,290.71929519993535,290.732441576464,290.8324737838883,290.8445621206334,291.23340555179266,291.24485144286615,291.2589712204793,291.30997027515264,291.5386390791254,291.72205591988643,291.8959773232239,292.3339165401485,292.736747985565,292.74901066668144,293.0204840557362,293.1284430555289,293.2683131673392,293.3055562472914,293.3192018697636,293.67445159253793,294.02070945188495,294.15063615576577,294.20322054529595,294.2615464006812,294.3314629802931,294.60322765129536,294.6272881829774,294.6926657889064,294.9497621423089,294.9713117188213,295.0683562777443,295.1800628123303,295.2799924321075,295.3666851789789,295.4506906473308,295.4779887617283,295.58864528184375,295.6832631315381,295.7382640345859,295.7762164033693,295.77655089138045],\"yaxis\":\"y\"}],                        {\"height\":600,\"legend\":{\"tracegroupgap\":0},\"margin\":{\"t\":60},\"template\":{\"data\":{\"bar\":[{\"error_x\":{\"color\":\"#2a3f5f\"},\"error_y\":{\"color\":\"#2a3f5f\"},\"marker\":{\"line\":{\"color\":\"#E5ECF6\",\"width\":0.5},\"pattern\":{\"fillmode\":\"overlay\",\"size\":10,\"solidity\":0.2}},\"type\":\"bar\"}],\"barpolar\":[{\"marker\":{\"line\":{\"color\":\"#E5ECF6\",\"width\":0.5},\"pattern\":{\"fillmode\":\"overlay\",\"size\":10,\"solidity\":0.2}},\"type\":\"barpolar\"}],\"carpet\":[{\"aaxis\":{\"endlinecolor\":\"#2a3f5f\",\"gridcolor\":\"white\",\"linecolor\":\"white\",\"minorgridcolor\":\"white\",\"startlinecolor\":\"#2a3f5f\"},\"baxis\":{\"endlinecolor\":\"#2a3f5f\",\"gridcolor\":\"white\",\"linecolor\":\"white\",\"minorgridcolor\":\"white\",\"startlinecolor\":\"#2a3f5f\"},\"type\":\"carpet\"}],\"choropleth\":[{\"colorbar\":{\"outlinewidth\":0,\"ticks\":\"\"},\"type\":\"choropleth\"}],\"contour\":[{\"colorbar\":{\"outlinewidth\":0,\"ticks\":\"\"},\"colorscale\":[[0.0,\"#0d0887\"],[0.1111111111111111,\"#46039f\"],[0.2222222222222222,\"#7201a8\"],[0.3333333333333333,\"#9c179e\"],[0.4444444444444444,\"#bd3786\"],[0.5555555555555556,\"#d8576b\"],[0.6666666666666666,\"#ed7953\"],[0.7777777777777778,\"#fb9f3a\"],[0.8888888888888888,\"#fdca26\"],[1.0,\"#f0f921\"]],\"type\":\"contour\"}],\"contourcarpet\":[{\"colorbar\":{\"outlinewidth\":0,\"ticks\":\"\"},\"type\":\"contourcarpet\"}],\"heatmap\":[{\"colorbar\":{\"outlinewidth\":0,\"ticks\":\"\"},\"colorscale\":[[0.0,\"#0d0887\"],[0.1111111111111111,\"#46039f\"],[0.2222222222222222,\"#7201a8\"],[0.3333333333333333,\"#9c179e\"],[0.4444444444444444,\"#bd3786\"],[0.5555555555555556,\"#d8576b\"],[0.6666666666666666,\"#ed7953\"],[0.7777777777777778,\"#fb9f3a\"],[0.8888888888888888,\"#fdca26\"],[1.0,\"#f0f921\"]],\"type\":\"heatmap\"}],\"heatmapgl\":[{\"colorbar\":{\"outlinewidth\":0,\"ticks\":\"\"},\"colorscale\":[[0.0,\"#0d0887\"],[0.1111111111111111,\"#46039f\"],[0.2222222222222222,\"#7201a8\"],[0.3333333333333333,\"#9c179e\"],[0.4444444444444444,\"#bd3786\"],[0.5555555555555556,\"#d8576b\"],[0.6666666666666666,\"#ed7953\"],[0.7777777777777778,\"#fb9f3a\"],[0.8888888888888888,\"#fdca26\"],[1.0,\"#f0f921\"]],\"type\":\"heatmapgl\"}],\"histogram\":[{\"marker\":{\"pattern\":{\"fillmode\":\"overlay\",\"size\":10,\"solidity\":0.2}},\"type\":\"histogram\"}],\"histogram2d\":[{\"colorbar\":{\"outlinewidth\":0,\"ticks\":\"\"},\"colorscale\":[[0.0,\"#0d0887\"],[0.1111111111111111,\"#46039f\"],[0.2222222222222222,\"#7201a8\"],[0.3333333333333333,\"#9c179e\"],[0.4444444444444444,\"#bd3786\"],[0.5555555555555556,\"#d8576b\"],[0.6666666666666666,\"#ed7953\"],[0.7777777777777778,\"#fb9f3a\"],[0.8888888888888888,\"#fdca26\"],[1.0,\"#f0f921\"]],\"type\":\"histogram2d\"}],\"histogram2dcontour\":[{\"colorbar\":{\"outlinewidth\":0,\"ticks\":\"\"},\"colorscale\":[[0.0,\"#0d0887\"],[0.1111111111111111,\"#46039f\"],[0.2222222222222222,\"#7201a8\"],[0.3333333333333333,\"#9c179e\"],[0.4444444444444444,\"#bd3786\"],[0.5555555555555556,\"#d8576b\"],[0.6666666666666666,\"#ed7953\"],[0.7777777777777778,\"#fb9f3a\"],[0.8888888888888888,\"#fdca26\"],[1.0,\"#f0f921\"]],\"type\":\"histogram2dcontour\"}],\"mesh3d\":[{\"colorbar\":{\"outlinewidth\":0,\"ticks\":\"\"},\"type\":\"mesh3d\"}],\"parcoords\":[{\"line\":{\"colorbar\":{\"outlinewidth\":0,\"ticks\":\"\"}},\"type\":\"parcoords\"}],\"pie\":[{\"automargin\":true,\"type\":\"pie\"}],\"scatter\":[{\"marker\":{\"colorbar\":{\"outlinewidth\":0,\"ticks\":\"\"}},\"type\":\"scatter\"}],\"scatter3d\":[{\"line\":{\"colorbar\":{\"outlinewidth\":0,\"ticks\":\"\"}},\"marker\":{\"colorbar\":{\"outlinewidth\":0,\"ticks\":\"\"}},\"type\":\"scatter3d\"}],\"scattercarpet\":[{\"marker\":{\"colorbar\":{\"outlinewidth\":0,\"ticks\":\"\"}},\"type\":\"scattercarpet\"}],\"scattergeo\":[{\"marker\":{\"colorbar\":{\"outlinewidth\":0,\"ticks\":\"\"}},\"type\":\"scattergeo\"}],\"scattergl\":[{\"marker\":{\"colorbar\":{\"outlinewidth\":0,\"ticks\":\"\"}},\"type\":\"scattergl\"}],\"scattermapbox\":[{\"marker\":{\"colorbar\":{\"outlinewidth\":0,\"ticks\":\"\"}},\"type\":\"scattermapbox\"}],\"scatterpolar\":[{\"marker\":{\"colorbar\":{\"outlinewidth\":0,\"ticks\":\"\"}},\"type\":\"scatterpolar\"}],\"scatterpolargl\":[{\"marker\":{\"colorbar\":{\"outlinewidth\":0,\"ticks\":\"\"}},\"type\":\"scatterpolargl\"}],\"scatterternary\":[{\"marker\":{\"colorbar\":{\"outlinewidth\":0,\"ticks\":\"\"}},\"type\":\"scatterternary\"}],\"surface\":[{\"colorbar\":{\"outlinewidth\":0,\"ticks\":\"\"},\"colorscale\":[[0.0,\"#0d0887\"],[0.1111111111111111,\"#46039f\"],[0.2222222222222222,\"#7201a8\"],[0.3333333333333333,\"#9c179e\"],[0.4444444444444444,\"#bd3786\"],[0.5555555555555556,\"#d8576b\"],[0.6666666666666666,\"#ed7953\"],[0.7777777777777778,\"#fb9f3a\"],[0.8888888888888888,\"#fdca26\"],[1.0,\"#f0f921\"]],\"type\":\"surface\"}],\"table\":[{\"cells\":{\"fill\":{\"color\":\"#EBF0F8\"},\"line\":{\"color\":\"white\"}},\"header\":{\"fill\":{\"color\":\"#C8D4E3\"},\"line\":{\"color\":\"white\"}},\"type\":\"table\"}]},\"layout\":{\"annotationdefaults\":{\"arrowcolor\":\"#2a3f5f\",\"arrowhead\":0,\"arrowwidth\":1},\"autotypenumbers\":\"strict\",\"coloraxis\":{\"colorbar\":{\"outlinewidth\":0,\"ticks\":\"\"}},\"colorscale\":{\"diverging\":[[0,\"#8e0152\"],[0.1,\"#c51b7d\"],[0.2,\"#de77ae\"],[0.3,\"#f1b6da\"],[0.4,\"#fde0ef\"],[0.5,\"#f7f7f7\"],[0.6,\"#e6f5d0\"],[0.7,\"#b8e186\"],[0.8,\"#7fbc41\"],[0.9,\"#4d9221\"],[1,\"#276419\"]],\"sequential\":[[0.0,\"#0d0887\"],[0.1111111111111111,\"#46039f\"],[0.2222222222222222,\"#7201a8\"],[0.3333333333333333,\"#9c179e\"],[0.4444444444444444,\"#bd3786\"],[0.5555555555555556,\"#d8576b\"],[0.6666666666666666,\"#ed7953\"],[0.7777777777777778,\"#fb9f3a\"],[0.8888888888888888,\"#fdca26\"],[1.0,\"#f0f921\"]],\"sequentialminus\":[[0.0,\"#0d0887\"],[0.1111111111111111,\"#46039f\"],[0.2222222222222222,\"#7201a8\"],[0.3333333333333333,\"#9c179e\"],[0.4444444444444444,\"#bd3786\"],[0.5555555555555556,\"#d8576b\"],[0.6666666666666666,\"#ed7953\"],[0.7777777777777778,\"#fb9f3a\"],[0.8888888888888888,\"#fdca26\"],[1.0,\"#f0f921\"]]},\"colorway\":[\"#636efa\",\"#EF553B\",\"#00cc96\",\"#ab63fa\",\"#FFA15A\",\"#19d3f3\",\"#FF6692\",\"#B6E880\",\"#FF97FF\",\"#FECB52\"],\"font\":{\"color\":\"#2a3f5f\"},\"geo\":{\"bgcolor\":\"white\",\"lakecolor\":\"white\",\"landcolor\":\"#E5ECF6\",\"showlakes\":true,\"showland\":true,\"subunitcolor\":\"white\"},\"hoverlabel\":{\"align\":\"left\"},\"hovermode\":\"closest\",\"mapbox\":{\"style\":\"light\"},\"paper_bgcolor\":\"white\",\"plot_bgcolor\":\"#E5ECF6\",\"polar\":{\"angularaxis\":{\"gridcolor\":\"white\",\"linecolor\":\"white\",\"ticks\":\"\"},\"bgcolor\":\"#E5ECF6\",\"radialaxis\":{\"gridcolor\":\"white\",\"linecolor\":\"white\",\"ticks\":\"\"}},\"scene\":{\"xaxis\":{\"backgroundcolor\":\"#E5ECF6\",\"gridcolor\":\"white\",\"gridwidth\":2,\"linecolor\":\"white\",\"showbackground\":true,\"ticks\":\"\",\"zerolinecolor\":\"white\"},\"yaxis\":{\"backgroundcolor\":\"#E5ECF6\",\"gridcolor\":\"white\",\"gridwidth\":2,\"linecolor\":\"white\",\"showbackground\":true,\"ticks\":\"\",\"zerolinecolor\":\"white\"},\"zaxis\":{\"backgroundcolor\":\"#E5ECF6\",\"gridcolor\":\"white\",\"gridwidth\":2,\"linecolor\":\"white\",\"showbackground\":true,\"ticks\":\"\",\"zerolinecolor\":\"white\"}},\"shapedefaults\":{\"line\":{\"color\":\"#2a3f5f\"}},\"ternary\":{\"aaxis\":{\"gridcolor\":\"white\",\"linecolor\":\"white\",\"ticks\":\"\"},\"baxis\":{\"gridcolor\":\"white\",\"linecolor\":\"white\",\"ticks\":\"\"},\"bgcolor\":\"#E5ECF6\",\"caxis\":{\"gridcolor\":\"white\",\"linecolor\":\"white\",\"ticks\":\"\"}},\"title\":{\"x\":0.05},\"xaxis\":{\"automargin\":true,\"gridcolor\":\"white\",\"linecolor\":\"white\",\"ticks\":\"\",\"title\":{\"standoff\":15},\"zerolinecolor\":\"white\",\"zerolinewidth\":2},\"yaxis\":{\"automargin\":true,\"gridcolor\":\"white\",\"linecolor\":\"white\",\"ticks\":\"\",\"title\":{\"standoff\":15},\"zerolinecolor\":\"white\",\"zerolinewidth\":2}}},\"title\":{\"text\":\"Scatter Plot with Trendline\"},\"width\":900,\"xaxis\":{\"anchor\":\"y\",\"domain\":[0.0,1.0],\"title\":{\"text\":\"Number of rooms 2019 Average\"}},\"yaxis\":{\"anchor\":\"x\",\"domain\":[0.0,1.0],\"title\":{\"text\":\"2019 Average Room Price\"}}},                        {\"responsive\": true}                    ).then(function(){\n",
       "                            \n",
       "var gd = document.getElementById('3340d0f3-3ee0-4e1e-8ee4-0ce0b62559fe');\n",
       "var x = new MutationObserver(function (mutations, observer) {{\n",
       "        var display = window.getComputedStyle(gd).display;\n",
       "        if (!display || display === 'none') {{\n",
       "            console.log([gd, 'removed!']);\n",
       "            Plotly.purge(gd);\n",
       "            observer.disconnect();\n",
       "        }}\n",
       "}});\n",
       "\n",
       "// Listen for the removal of the full notebook cells\n",
       "var notebookContainer = gd.closest('#notebook-container');\n",
       "if (notebookContainer) {{\n",
       "    x.observe(notebookContainer, {childList: true});\n",
       "}}\n",
       "\n",
       "// Listen for the clearing of the current output cell\n",
       "var outputEl = gd.closest('.output');\n",
       "if (outputEl) {{\n",
       "    x.observe(outputEl, {childList: true});\n",
       "}}\n",
       "\n",
       "                        })                };                });            </script>        </div>"
      ]
     },
     "metadata": {},
     "output_type": "display_data"
    }
   ],
   "source": [
    "fig = py.scatter(df, x='rooms', y='price', trendline='ols',\n",
    "                    labels={\n",
    "                     'rooms': \"Number of rooms 2019 Average\",\n",
    "                     'price': \"2019 Average Room Price\"\n",
    "                 })\n",
    "\n",
    "fig.update_layout(height=600, width=900, title_text='Scatter Plot with Trendline')\n",
    "\n",
    "fig.show()"
   ]
  },
  {
   "cell_type": "code",
   "execution_count": null,
   "id": "bfb68993",
   "metadata": {},
   "outputs": [],
   "source": []
  }
 ],
 "metadata": {
  "kernelspec": {
   "display_name": "Python 3 (ipykernel)",
   "language": "python",
   "name": "python3"
  },
  "language_info": {
   "codemirror_mode": {
    "name": "ipython",
    "version": 3
   },
   "file_extension": ".py",
   "mimetype": "text/x-python",
   "name": "python",
   "nbconvert_exporter": "python",
   "pygments_lexer": "ipython3",
   "version": "3.9.6"
  }
 },
 "nbformat": 4,
 "nbformat_minor": 5
}
